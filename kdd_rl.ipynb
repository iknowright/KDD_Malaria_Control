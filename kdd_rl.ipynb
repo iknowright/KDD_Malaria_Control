{
 "cells": [
  {
   "cell_type": "code",
   "execution_count": 1,
   "metadata": {},
   "outputs": [
    {
     "name": "stdout",
     "output_type": "stream",
     "text": [
      "[{'1': [0.55, 0.7], '2': [0, 0], '3': [0, 0], '4': [0, 0], '5': [0, 0]}]\n"
     ]
    }
   ],
   "source": [
    "policies = []\n",
    "policy = {}\n",
    "\n",
    "policy['1']=[.55,.7]\n",
    "policy['2']=[0,0]\n",
    "policy['3']=[0,0]\n",
    "policy['4']=[0,0]\n",
    "policy['5']=[0,0]\n",
    "\n",
    "policies.append(policy)\n",
    "print(policies)"
   ]
  },
  {
   "cell_type": "code",
   "execution_count": 3,
   "metadata": {},
   "outputs": [
    {
     "name": "stderr",
     "output_type": "stream",
     "text": [
      "/usr/lib/python3.7/site-packages/requests/__init__.py:91: RequestsDependencyWarning: urllib3 (1.25.2) or chardet (3.0.4) doesn't match a supported version!\n",
      "  RequestsDependencyWarning)\n"
     ]
    }
   ],
   "source": [
    "import numpy as np\n",
    "import pandas as pd\n",
    "from collections import OrderedDict\n",
    "\n",
    "from netsapi.challenge import *\n",
    "from sys import exit, exc_info, argv"
   ]
  },
  {
   "cell_type": "code",
   "execution_count": 4,
   "metadata": {},
   "outputs": [
    {
     "name": "stdout",
     "output_type": "stream",
     "text": [
      "[0.55, 0.7]\n",
      "100  Evaluations Remaining\n",
      "12.823093473278048\n"
     ]
    }
   ],
   "source": [
    "print(policies[0]['1']) #Action in Year 1\n",
    "\n",
    "env = ChallengeEnvironment() #Initialise Challenge Environment\n",
    "reward = env.evaluateReward(np.asarray(policies[0]['1'])) #This has been negated and any reward should be maximised\n",
    "\n",
    "print(reward)"
   ]
  },
  {
   "cell_type": "code",
   "execution_count": 5,
   "metadata": {},
   "outputs": [
    {
     "name": "stdout",
     "output_type": "stream",
     "text": [
      "105  Evaluations Remaining\n",
      "12.693308835264242\n"
     ]
    }
   ],
   "source": [
    "envSeqDec = ChallengeSeqDecEnvironment() #Initialise a New Challenge Environment to post entire policy\n",
    "reward = envSeqDec.evaluatePolicy(policies[0]) #Action in Year 1 only\n",
    "\n",
    "print(reward)"
   ]
  },
  {
   "cell_type": "code",
   "execution_count": 6,
   "metadata": {},
   "outputs": [
    {
     "name": "stdout",
     "output_type": "stream",
     "text": [
      "100  Evaluations Remaining\n",
      "95  Evaluations Remaining\n",
      "90  Evaluations Remaining\n",
      "85  Evaluations Remaining\n",
      "80  Evaluations Remaining\n",
      "75  Evaluations Remaining\n",
      "70  Evaluations Remaining\n",
      "65  Evaluations Remaining\n",
      "60  Evaluations Remaining\n",
      "55  Evaluations Remaining\n",
      "[12.69330884 11.83730415 13.16138403 11.57266799 11.544019   12.36210113\n",
      " 11.85800522 11.9272818  13.13517541 12.89163672 13.11529782]\n"
     ]
    }
   ],
   "source": [
    "rewards = [reward]\n",
    "for i in range(10):   \n",
    "    reward = envSeqDec.evaluatePolicy(policies[0])\n",
    "    rewards = np.append(rewards, reward)\n",
    "    \n",
    "print(rewards)"
   ]
  },
  {
   "cell_type": "code",
   "execution_count": 7,
   "metadata": {},
   "outputs": [
    {
     "data": {
      "image/png": "[encoded data removed]",
      "text/plain": [
       "<Figure size 432x288 with 1 Axes>"
      ]
     },
     "metadata": {
      "needs_background": "light"
     },
     "output_type": "display_data"
    }
   ],
   "source": [
    "import matplotlib.pyplot as plt\n",
    "\n",
    "%matplotlib inline\n",
    "\n",
    "plt.boxplot(rewards)\n",
    "plt.xlabel('Action [ITN,IRS]')\n",
    "plt.ylabel('Rewards')\n",
    "\n",
    "plt.show()"
   ]
  },
  {
   "cell_type": "code",
   "execution_count": 8,
   "metadata": {},
   "outputs": [
    {
     "name": "stdout",
     "output_type": "stream",
     "text": [
      "50  Evaluations Remaining\n",
      "reward 101.38600327894167\n",
      "49  Evaluations Remaining\n",
      "reward 54.71803602452188\n",
      "48  Evaluations Remaining\n",
      "reward -30.61680255308627\n",
      "47  Evaluations Remaining\n",
      "reward 24.09914310007649\n",
      "46  Evaluations Remaining\n",
      "reward -69.45163722551399\n",
      "policy {'1': [0.0, 1.0], '2': [0.7545960907910104, 0.65618956084574], '3': [0.9664322770849566, 0.25692149347297855], '4': [0.7167454886732585, 0.6973348582040998], '5': [0.8591458201056329, 0.5117308470231392]}\n",
      "episodic_reward 80.13474262493975\n"
     ]
    }
   ],
   "source": [
    "episode_count = 1 \n",
    "\n",
    "reward = 0\n",
    "for i in range(episode_count):\n",
    "    envSeqDec.reset()\n",
    "    episodic_reward = 0\n",
    "\n",
    "    while True:\n",
    "        \n",
    "        #Agent Training Code here\n",
    "        action = [abs(np.sin(reward)),abs(np.cos(reward))] \n",
    "        envSeqDec.policy[str(envSeqDec.state)] = action \n",
    "        \n",
    "        ob, reward, done, _ = envSeqDec.evaluateAction(action)\n",
    "        print('reward',reward)\n",
    "        episodic_reward += reward\n",
    "        \n",
    "        if done:\n",
    "            break\n",
    "    \n",
    "    policies.append(envSeqDec.policy)\n",
    "    print('policy', envSeqDec.policy)\n",
    "    print('episodic_reward', episodic_reward)"
   ]
  },
  {
   "cell_type": "code",
   "execution_count": 10,
   "metadata": {},
   "outputs": [],
   "source": [
    "class CustomAgent:\n",
    "    def __init__(self, environment):\n",
    "        self.environment = environment\n",
    "\n",
    "    def generate(self):\n",
    "        best_policy = None\n",
    "        best_reward = -float('Inf')\n",
    "        candidates = []\n",
    "        try:\n",
    "            # Agents should make use of 20 episodes in each training run, if making sequential decisions\n",
    "            for i in range(20):\n",
    "                self.environment.reset()\n",
    "                policy = {}\n",
    "                for j in range(5): #episode length\n",
    "                    policy[str(j+1)]=[random.random(),random.random()]\n",
    "                candidates.append(policy)\n",
    "                \n",
    "            rewards = self.environment.evaluatePolicy(candidates)\n",
    "            best_policy = candidates[np.argmax(rewards)]\n",
    "            best_reward = rewards[np.argmax(rewards)]\n",
    "        \n",
    "        except (KeyboardInterrupt, SystemExit):\n",
    "            print(exc_info())\n",
    "            \n",
    "        return best_policy, best_reward"
   ]
  },
  {
   "cell_type": "code",
   "execution_count": 11,
   "metadata": {},
   "outputs": [
    {
     "name": "stdout",
     "output_type": "stream",
     "text": [
      "105  Evaluations Remaining\n",
      "105  Evaluations Remaining\n",
      "105  Evaluations Remaining\n",
      "105  Evaluations Remaining\n",
      "105  Evaluations Remaining\n",
      "105  Evaluations Remaining\n",
      "105  Evaluations Remaining\n",
      "105  Evaluations Remaining\n",
      "105  Evaluations Remaining\n",
      "105  Evaluations Remaining\n",
      "174.1569334191546\n"
     ]
    },
    {
     "data": {
      "text/plain": [
       "<netsapi.challenge.EvaluateChallengeSubmission at 0x7f1842f0c9b0>"
      ]
     },
     "execution_count": 11,
     "metadata": {},
     "output_type": "execute_result"
    }
   ],
   "source": [
    "EvaluateChallengeSubmission(ChallengeSeqDecEnvironment, CustomAgent, \"tutorial.csv\")"
   ]
  },
  {
   "cell_type": "code",
   "execution_count": null,
   "metadata": {},
   "outputs": [],
   "source": []
  }
 ],
 "metadata": {
  "kernelspec": {
   "display_name": "Python 3",
   "language": "python",
   "name": "python3"
  },
  "language_info": {
   "codemirror_mode": {
    "name": "ipython",
    "version": 3
   },
   "file_extension": ".py",
   "mimetype": "text/x-python",
   "name": "python",
   "nbconvert_exporter": "python",
   "pygments_lexer": "ipython3",
   "version": "3.7.3"
  }
 },
 "nbformat": 4,
 "nbformat_minor": 2
}
