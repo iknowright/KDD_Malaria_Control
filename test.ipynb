{
 "cells": [
  {
   "cell_type": "markdown",
   "metadata": {},
   "source": [
    "# Example starter code"
   ]
  },
  {
   "cell_type": "markdown",
   "metadata": {},
   "source": [
    "#### Please use the following class template as a pattern to encapsulate your submission.\n",
    "\n",
    "#### You may modify it extensively, however you must: \n",
    "- permit the environment object to be passed in the class initialization, and \n",
    "- implement the \"generate\" method to return the best policy developed by your algorithm. In this template, you are free to add (but not remove) methods, parameters, etc. and also to set defaults for any of your additional parameters which permit your code to perform at its best. Only the generate method will be called during the evaluation process, and no parameters will be passed.\n",
    "\n",
    "```\n",
    "from netsapi.environment import *\n",
    "# For a given environment, evaluate a policy by applying its evaluateReward method\n",
    "\n",
    "class CustomAgent():\n",
    "    def __init__(self, environment):\n",
    "        self.environment = environment\n",
    "\n",
    "    def generate(self):\n",
    "        best_policy = None\n",
    "        best_reward = -float('Inf')\n",
    "        try:\n",
    "            # ask for a set of random candidate solutions to be evaluated\n",
    "            policies = [[1,1]]\n",
    "            rewards = self.environment.evaluateReward(policies)\n",
    "            best_policy = policies[0]\n",
    "        \n",
    "        except (KeyboardInterrupt, SystemExit):\n",
    "            print(exc_info())\n",
    "        return best_policy\n",
    "```        "
   ]
  },
  {
   "cell_type": "markdown",
   "metadata": {
    "collapsed": true
   },
   "source": [
    "# Example submission: test.py"
   ]
  },
  {
   "cell_type": "code",
   "execution_count": null,
   "metadata": {},
   "outputs": [],
   "source": [
    "import numpy as np\n",
    "import pandas as pd\n",
    "from collections import OrderedDict\n",
    "\n",
    "!pip3 install git+https://github.com/slremy/netsapi --user --upgrade\n",
    "\n",
    "from netsapi.environment import *\n",
    "from sys import exit, exc_info, argv\n",
    "\n",
    "class CustomAgent:\n",
    "    def __init__(self, environment, popsize=10):\n",
    "        self.popsize=popsize\n",
    "        self.environment = environment\n",
    "        self.popsize = popsize\n",
    "\n",
    "            \n",
    "        self.episodes = []\n",
    "        self.scores = []\n",
    "        self.policies = []\n",
    "\n",
    "    def generate(self):\n",
    "        best_policy = None\n",
    "        best_reward = -float('Inf')\n",
    "        try:\n",
    "            # select a set of random candidate solutions to be evaluated\n",
    "            policies = np.random.rand(self.popsize, self.environment.policyDimension)\n",
    "            rewards = self.environment.evaluateReward(policies)\n",
    "            best_policy = policies[np.argmax(rewards),:]\n",
    "        \n",
    "        except (KeyboardInterrupt, SystemExit):\n",
    "            print(exc_info())\n",
    "            \n",
    "        return best_policy\n",
    "\n",
    "    def scoringFunction(self, i=21, j=21):\n",
    "        scores = []\n",
    "        for ii in range(i):\n",
    "            self.environment.reset()\n",
    "            finalresult = self.generate()\n",
    "            self.policies.append(finalresult)\n",
    "            reward = self.environment.evaluateReward( np.tile(finalresult,(j,1)))\n",
    "            self.scores.append(reward)\n",
    "            self.episodes.append(ii)\n",
    "\n",
    "        return np.mean(self.scores)/np.std(self.scores)\n",
    " \n",
    "        \n",
    "    def create_submissions(self):\n",
    "        labels = ['episode_no', 'reward', 'policy']\n",
    "        data = { 'episode_no': self.episodes, \n",
    "                 'rewards': self.scores,\n",
    "                 'policy': self.policies,\n",
    "               }\n",
    "        submission_file = pd.DataFrame(data)\n",
    "        \n",
    "        submission_file.to_csv('my_submission.csv', index=False)\n",
    "        "
   ]
  },
  {
   "cell_type": "code",
   "execution_count": null,
   "metadata": {},
   "outputs": [],
   "source": [
    "env = ChallengeEnvironment(userID= \"Evaluating-IndabaXKenyaUser\",\n",
    "                              baseuri = \"https://nlmodelflask.eu-gb.mybluemix.net\",\n",
    "                              locationId = \"abcd123\", realworkercount = 1, experimentCount = 1000)\n",
    "a = CustomAgent(env)\n",
    "a.scoringFunction(4, 2)\n",
    "a.create_submissions()"
   ]
  }
 ],
 "metadata": {
  "kernelspec": {
   "display_name": "Python 3",
   "language": "python",
   "name": "python3"
  },
  "language_info": {
   "codemirror_mode": {
    "name": "ipython",
    "version": 3
   },
   "file_extension": ".py",
   "mimetype": "text/x-python",
   "name": "python",
   "nbconvert_exporter": "python",
   "pygments_lexer": "ipython3",
   "version": "3.7.2"
  }
 },
 "nbformat": 4,
 "nbformat_minor": 1
}